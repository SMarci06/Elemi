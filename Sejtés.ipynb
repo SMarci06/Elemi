{
  "nbformat": 4,
  "nbformat_minor": 0,
  "metadata": {
    "colab": {
      "name": "Sejtés.ipynb",
      "provenance": [],
      "authorship_tag": "ABX9TyPTfj1H/mnOJiBGIvKrabuV",
      "include_colab_link": true
    },
    "kernelspec": {
      "name": "python3",
      "display_name": "Python 3"
    },
    "language_info": {
      "name": "python"
    }
  },
  "cells": [
    {
      "cell_type": "markdown",
      "metadata": {
        "id": "view-in-github",
        "colab_type": "text"
      },
      "source": [
        "<a href=\"https://colab.research.google.com/github/SMarci06/Elemi/blob/main/Sejt%C3%A9s.ipynb\" target=\"_parent\"><img src=\"https://colab.research.google.com/assets/colab-badge.svg\" alt=\"Open In Colab\"/></a>"
      ]
    },
    {
      "cell_type": "code",
      "metadata": {
        "id": "h3ydho6cVd40"
      },
      "source": [
        "import matplotlib.pyplot as plt\n",
        "\n",
        "def Collatz(y):\n",
        "  Y = []\n",
        "  while y != 1:\n",
        "    if y % 2 == 0:\n",
        "      y //= 2\n",
        "    else:\n",
        "      y = 3 * y + 1\n",
        "    Y.append(y)\n",
        "    #print(y) \n",
        "  plt.plot(Y)\n",
        "  plt.show()\n",
        "  print(f\"A lépések száma: {str(len(Y))}\") #f string\n",
        "  print(f\"A legnagyobb szám: {max(Y)}\")"
      ],
      "execution_count": 55,
      "outputs": []
    },
    {
      "cell_type": "code",
      "metadata": {
        "id": "1llLFFglYJCP"
      },
      "source": [
        "Collatz(34)"
      ],
      "execution_count": null,
      "outputs": []
    },
    {
      "cell_type": "code",
      "metadata": {
        "id": "RplpbIRuZBiI"
      },
      "source": [
        "plt.plot([7,22,52,4])\n",
        "plt.show()"
      ],
      "execution_count": null,
      "outputs": []
    },
    {
      "cell_type": "code",
      "metadata": {
        "id": "IZmleNGtikk1"
      },
      "source": [
        "def CollatzGenerator(y):\n",
        "  while y != 1:\n",
        "    if y % 2 == 0:\n",
        "      y //= 2\n",
        "    else:\n",
        "      y = 3 * y + 1\n",
        "    yield y"
      ],
      "execution_count": 77,
      "outputs": []
    },
    {
      "cell_type": "code",
      "metadata": {
        "id": "wt4d873Di0Yt"
      },
      "source": [
        "for y in CollatzGenerator(7):\n",
        "  print(y)"
      ],
      "execution_count": null,
      "outputs": []
    },
    {
      "cell_type": "code",
      "metadata": {
        "id": "fHTQYDVSjA4P"
      },
      "source": [
        "y = list(CollatzGenerator(921345312))\n",
        "plt.plot(y)\n",
        "plt.show()\n",
        "print(len(y))"
      ],
      "execution_count": null,
      "outputs": []
    },
    {
      "cell_type": "code",
      "metadata": {
        "id": "1Zho90Hsj9P0"
      },
      "source": [
        "import math\n",
        "\n",
        "def CollatzGeneratorLog10(y):\n",
        "  while y != 1:\n",
        "    if y % 2 == 0:\n",
        "      y //= 2\n",
        "    else:\n",
        "      y = 3 * y + 1\n",
        "    yield math.log10(y)"
      ],
      "execution_count": 67,
      "outputs": []
    },
    {
      "cell_type": "code",
      "metadata": {
        "colab": {
          "base_uri": "https://localhost:8080/",
          "height": 282
        },
        "id": "9Yd9ItsIlQWa",
        "outputId": "500eb67a-15d0-46e3-8e69-60967f2eee72"
      },
      "source": [
        "y = list(CollatzGeneratorLog10(921345312))\n",
        "plt.plot(y)\n",
        "plt.show()\n",
        "print(len(y))"
      ],
      "execution_count": 78,
      "outputs": [
        {
          "output_type": "display_data",
          "data": {
            "image/png": "[encoded data removed]",
            "text/plain": [
              "<Figure size 432x288 with 1 Axes>"
            ]
          },
          "metadata": {
            "needs_background": "light"
          }
        },
        {
          "output_type": "stream",
          "name": "stdout",
          "text": [
            "123\n"
          ]
        }
      ]
    },
    {
      "cell_type": "code",
      "metadata": {
        "colab": {
          "base_uri": "https://localhost:8080/",
          "height": 282
        },
        "id": "QIYGSgG4lc4V",
        "outputId": "feab405d-52cc-4b03-e0b1-6f282f6727de"
      },
      "source": [
        "import math\n",
        "y = [math.log10(i) for i in CollatzGenerator(921345312)] #List Comprehension\n",
        "plt.plot(y)\n",
        "plt.show()\n",
        "print(len(y))"
      ],
      "execution_count": 81,
      "outputs": [
        {
          "output_type": "display_data",
          "data": {
            "image/png": "[encoded data removed]",
            "text/plain": [
              "<Figure size 432x288 with 1 Axes>"
            ]
          },
          "metadata": {
            "needs_background": "light"
          }
        },
        {
          "output_type": "stream",
          "name": "stdout",
          "text": [
            "123\n"
          ]
        }
      ]
    },
    {
      "cell_type": "code",
      "metadata": {
        "colab": {
          "base_uri": "https://localhost:8080/"
        },
        "id": "IQBkA2s6n00n",
        "outputId": "dab2b793-636a-459d-9e8b-bae97a29cfd5"
      },
      "source": [
        "b1=b2=b3=b4=b5=b6=b7=b8=b9=0\n",
        "for i in CollatzGenerator(7):\n",
        "  i = str(i)[0]\n",
        "  if i == '1': b1 += 1\n",
        "  elif i == '2': b2 += 1\n",
        "  elif i == '3': b3 += 1\n",
        "  elif i == '4': b4 += 1\n",
        "  elif i == '5': b5 += 1\n",
        "  elif i == '6': b6 += 1\n",
        "  elif i == '7': b7 += 1\n",
        "  elif i == '8': b8 += 1\n",
        "  else: b9 += 1\n",
        "\n",
        "  print(i)  \n",
        "print(f\"Egyesek száma első indexen: {b1}\")\n",
        "print(f\"Kettesek száma első indexen: {b2}\")\n",
        "print(f\"Hármasok száma első indexen: {b3}\")\n",
        "print(f\"Négyesek száma első indexen: {b4}\")\n",
        "print(f\"Ötösök száma első indexen: {b5}\")\n",
        "print(f\"Hatosok száma első indexen: {b6}\")\n",
        "print(f\"Hetesek száma első indexen: {b7}\")\n",
        "print(f\"Nyolcasok száma első indexen: {b8}\")\n",
        "print(f\"Kilencesek száma első indexen: {b9}\")"
      ],
      "execution_count": 95,
      "outputs": [
        {
          "output_type": "stream",
          "name": "stdout",
          "text": [
            "2\n",
            "1\n",
            "3\n",
            "1\n",
            "5\n",
            "2\n",
            "1\n",
            "4\n",
            "2\n",
            "1\n",
            "5\n",
            "1\n",
            "8\n",
            "4\n",
            "2\n",
            "1\n",
            "Egyesek száma első indexen: 6\n",
            "Kettesek száma első indexen: 4\n",
            "Hármasok száma első indexen: 1\n",
            "Négyesek száma első indexen: 2\n",
            "Ötösök száma első indexen: 2\n",
            "Hatosok száma első indexen: 0\n",
            "Hetesek száma első indexen: 0\n",
            "Nyolcasok száma első indexen: 1\n",
            "Kilencesek száma első indexen: 0\n"
          ]
        }
      ]
    },
    {
      "cell_type": "code",
      "metadata": {
        "colab": {
          "base_uri": "https://localhost:8080/",
          "height": 317
        },
        "id": "57PAo0mG32IY",
        "outputId": "af6878ae-8fb0-4c0f-bb06-4bf4792e0d2d"
      },
      "source": [
        "b = [0] * 9 #Beépített python bővítő\n",
        "print(b)\n",
        "for i in CollatzGenerator(4323624737):\n",
        "  b[int(str(i)[0])-1] += 1\n",
        "print(b)\n",
        "plt.bar([1,2,3,4,5,6,7,8,9], b)\n",
        "plt.show"
      ],
      "execution_count": 103,
      "outputs": [
        {
          "output_type": "stream",
          "name": "stdout",
          "text": [
            "[0, 0, 0, 0, 0, 0, 0, 0, 0]\n",
            "[107, 64, 44, 35, 33, 22, 20, 17, 16]\n"
          ]
        },
        {
          "output_type": "execute_result",
          "data": {
            "text/plain": [
              "<function matplotlib.pyplot.show>"
            ]
          },
          "metadata": {},
          "execution_count": 103
        },
        {
          "output_type": "display_data",
          "data": {
            "image/png": "[encoded data removed]",
            "text/plain": [
              "<Figure size 432x288 with 1 Axes>"
            ]
          },
          "metadata": {
            "needs_background": "light"
          }
        }
      ]
    },
    {
      "cell_type": "code",
      "metadata": {
        "colab": {
          "base_uri": "https://localhost:8080/",
          "height": 311
        },
        "id": "0Phvwskt5Tp6",
        "outputId": "9bda1b86-2f60-4ea1-e3a5-0153901316d6"
      },
      "source": [
        "b = [0] * 9\n",
        "for n in range(2, 200000):\n",
        "  for i in CollatzGenerator(n):\n",
        "    b[int(str(i)[0])-1] += 1\n",
        "print(b)\n",
        "plt.bar([1,2,3,4,5,6,7,8,9], b)\n",
        "plt.show"
      ],
      "execution_count": 110,
      "outputs": [
        {
          "output_type": "stream",
          "name": "stdout",
          "text": [
            "[6839774, 3996612, 2706155, 2610081, 1831250, 1311649, 1303995, 1249615, 1089342]\n"
          ]
        },
        {
          "output_type": "execute_result",
          "data": {
            "text/plain": [
              "<function matplotlib.pyplot.show>"
            ]
          },
          "metadata": {},
          "execution_count": 110
        },
        {
          "output_type": "display_data",
          "data": {
            "image/png": "[encoded data removed]",
            "text/plain": [
              "<Figure size 432x288 with 1 Axes>"
            ]
          },
          "metadata": {
            "needs_background": "light"
          }
        }
      ]
    },
    {
      "cell_type": "code",
      "metadata": {
        "id": "qOllsY5m85uB"
      },
      "source": [
        ""
      ],
      "execution_count": null,
      "outputs": []
    }
  ]
}
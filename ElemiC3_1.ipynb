{
  "nbformat": 4,
  "nbformat_minor": 0,
  "metadata": {
    "colab": {
      "name": "ElemiC3_1",
      "provenance": [],
      "toc_visible": true,
      "authorship_tag": "ABX9TyPhg0m56JiafSPZOzNLDPzI"
    },
    "kernelspec": {
      "name": "python3",
      "display_name": "Python 3"
    },
    "language_info": {
      "name": "python"
    }
  },
  "cells": [
    {
      "cell_type": "markdown",
      "metadata": {
        "id": "jZ4MqAnTdqKO"
      },
      "source": [
        "## Változók"
      ]
    },
    {
      "cell_type": "code",
      "metadata": {
        "colab": {
          "base_uri": "https://localhost:8080/"
        },
        "id": "C8etqzNgT6Tm",
        "outputId": "575bcc39-3637-4a40-f826-6fa683e794ae"
      },
      "source": [
        "print(\"Fut a Colab\")"
      ],
      "execution_count": null,
      "outputs": [
        {
          "output_type": "stream",
          "name": "stdout",
          "text": [
            "Fut a Colab\n"
          ]
        }
      ]
    },
    {
      "cell_type": "code",
      "metadata": {
        "id": "gKKrJJRdW1iv"
      },
      "source": [
        "szoveg = 'Szimpla idézőjel'"
      ],
      "execution_count": null,
      "outputs": []
    },
    {
      "cell_type": "code",
      "metadata": {
        "colab": {
          "base_uri": "https://localhost:8080/"
        },
        "id": "dnymOM_WXnW6",
        "outputId": "738fd685-678e-4637-eaaa-8ef204317d5f"
      },
      "source": [
        "print(szoveg)"
      ],
      "execution_count": null,
      "outputs": [
        {
          "output_type": "stream",
          "name": "stdout",
          "text": [
            "Szimpla idézőjel\n"
          ]
        }
      ]
    },
    {
      "cell_type": "code",
      "metadata": {
        "colab": {
          "base_uri": "https://localhost:8080/"
        },
        "id": "Jmazy4F4XwLx",
        "outputId": "cc8e3130-a691-48df-f4ef-1b0ade15052b"
      },
      "source": [
        "szoveg = \"Dupla idézőjel\"\n",
        "print(szoveg)"
      ],
      "execution_count": null,
      "outputs": [
        {
          "output_type": "stream",
          "name": "stdout",
          "text": [
            "Dupla idézőjel\n"
          ]
        }
      ]
    },
    {
      "cell_type": "code",
      "metadata": {
        "colab": {
          "base_uri": "https://localhost:8080/"
        },
        "id": "_tFGjjz3YAIw",
        "outputId": "84a5dbfb-1cf3-427f-dacf-6d0111a3f6ac"
      },
      "source": [
        "beagyaz = \"Kívül dupla, 'Belül szimpla' \"\n",
        "print(beagyaz)"
      ],
      "execution_count": null,
      "outputs": [
        {
          "output_type": "stream",
          "name": "stdout",
          "text": [
            "Kívül dupla, 'Belül szimpla' \n"
          ]
        }
      ]
    },
    {
      "cell_type": "code",
      "metadata": {
        "colab": {
          "base_uri": "https://localhost:8080/"
        },
        "id": "En9ckMWWYWG2",
        "outputId": "9d53aa2d-ccae-4441-fa56-e25a79037812"
      },
      "source": [
        "tobb = \"\"\"1. sor\n",
        "2. sor\n",
        "3. sor\n",
        "\"\"\"\n",
        "print(tobb)"
      ],
      "execution_count": null,
      "outputs": [
        {
          "output_type": "stream",
          "name": "stdout",
          "text": [
            "1. sor\n",
            "2. sor\n",
            "3. sor\n"
          ]
        }
      ]
    },
    {
      "cell_type": "code",
      "metadata": {
        "colab": {
          "base_uri": "https://localhost:8080/"
        },
        "id": "D3cBu6GRYmqp",
        "outputId": "2b45de89-9a79-4004-a454-c17887fc5a15"
      },
      "source": [
        "tobb = \"1.sor\\n2.sor\\n3.sor\\n\"\n",
        "print(tobb)"
      ],
      "execution_count": null,
      "outputs": [
        {
          "output_type": "stream",
          "name": "stdout",
          "text": [
            "1.sor\n",
            "2.sor\n",
            "3.sor\n",
            "\n"
          ]
        }
      ]
    },
    {
      "cell_type": "code",
      "metadata": {
        "colab": {
          "base_uri": "https://localhost:8080/"
        },
        "id": "DSf7CLNLZFgl",
        "outputId": "6285afe5-cbde-418c-b05e-99e27ac9dddd"
      },
      "source": [
        "tab = \"1.oszlop\\t2.oszlop\\t3.oszlop\\t\"\n",
        "print(tab)"
      ],
      "execution_count": null,
      "outputs": [
        {
          "output_type": "stream",
          "name": "stdout",
          "text": [
            "1.oszlop\t2.oszlop\t3.oszlop\t\n"
          ]
        }
      ]
    },
    {
      "cell_type": "code",
      "metadata": {
        "colab": {
          "base_uri": "https://localhost:8080/"
        },
        "id": "Nx-offBhZhEj",
        "outputId": "f1b64506-3329-46e1-afe2-82d652d249b2"
      },
      "source": [
        "type(tab)"
      ],
      "execution_count": null,
      "outputs": [
        {
          "output_type": "execute_result",
          "data": {
            "text/plain": [
              "str"
            ]
          },
          "metadata": {},
          "execution_count": 13
        }
      ]
    },
    {
      "cell_type": "code",
      "metadata": {
        "colab": {
          "base_uri": "https://localhost:8080/"
        },
        "id": "izVL5Ji9aCXp",
        "outputId": "45714dac-92d3-4dfb-ceb4-f7c4affa41ba"
      },
      "source": [
        "egesz = 6\n",
        "negyzet = egesz * egesz\n",
        "print(negyzet)"
      ],
      "execution_count": null,
      "outputs": [
        {
          "output_type": "stream",
          "name": "stdout",
          "text": [
            "36\n"
          ]
        }
      ]
    },
    {
      "cell_type": "code",
      "metadata": {
        "colab": {
          "base_uri": "https://localhost:8080/"
        },
        "id": "HrShf9BFa4GO",
        "outputId": "01bc2b96-01cb-44c4-cb24-54ee419d34d7"
      },
      "source": [
        "type(negyzet)"
      ],
      "execution_count": null,
      "outputs": [
        {
          "output_type": "execute_result",
          "data": {
            "text/plain": [
              "int"
            ]
          },
          "metadata": {},
          "execution_count": 15
        }
      ]
    },
    {
      "cell_type": "code",
      "metadata": {
        "colab": {
          "base_uri": "https://localhost:8080/"
        },
        "id": "zPshCZAZbUUh",
        "outputId": "6456cb4f-65f3-4611-ad41-5112e0093ca9"
      },
      "source": [
        "flt = 6e2\n",
        "print(flt)"
      ],
      "execution_count": null,
      "outputs": [
        {
          "output_type": "stream",
          "name": "stdout",
          "text": [
            "600.0\n"
          ]
        }
      ]
    },
    {
      "cell_type": "code",
      "metadata": {
        "colab": {
          "base_uri": "https://localhost:8080/"
        },
        "id": "r21FrXm3cSer",
        "outputId": "2c77bb24-e44d-44e2-d9cf-219d7563ebc0"
      },
      "source": [
        "type(flt)"
      ],
      "execution_count": null,
      "outputs": [
        {
          "output_type": "execute_result",
          "data": {
            "text/plain": [
              "float"
            ]
          },
          "metadata": {},
          "execution_count": 17
        }
      ]
    },
    {
      "cell_type": "code",
      "metadata": {
        "id": "2Tx1mm8rc-LS"
      },
      "source": [
        "bl = True"
      ],
      "execution_count": null,
      "outputs": []
    },
    {
      "cell_type": "markdown",
      "metadata": {
        "id": "ogJt-AX-dh01"
      },
      "source": [
        "## Műveletek változókkal"
      ]
    },
    {
      "cell_type": "code",
      "metadata": {
        "colab": {
          "base_uri": "https://localhost:8080/"
        },
        "id": "LdMP4iEBec_R",
        "outputId": "d20d9ef0-4c29-4de0-e84b-e9601b3fc2e1"
      },
      "source": [
        "s1 = \"Bal\"\n",
        "s2 = \"Jobb\"\n",
        "\n",
        "cat = s1+s2\n",
        "print(cat)"
      ],
      "execution_count": null,
      "outputs": [
        {
          "output_type": "stream",
          "name": "stdout",
          "text": [
            "BalJobb\n"
          ]
        }
      ]
    },
    {
      "cell_type": "code",
      "metadata": {
        "colab": {
          "base_uri": "https://localhost:8080/"
        },
        "id": "lBeSW1gKep1o",
        "outputId": "ef1027b6-52e2-4d44-87f8-be6dd4921923"
      },
      "source": [
        "ttk = \"Természettudományi Kar\"\n",
        "type(ttk[0])"
      ],
      "execution_count": null,
      "outputs": [
        {
          "output_type": "execute_result",
          "data": {
            "text/plain": [
              "str"
            ]
          },
          "metadata": {},
          "execution_count": 25
        }
      ]
    },
    {
      "cell_type": "code",
      "metadata": {
        "colab": {
          "base_uri": "https://localhost:8080/"
        },
        "id": "yKvZfyGXfmXT",
        "outputId": "8f85a86d-b637-4130-c6b7-40fc965e27f8"
      },
      "source": [
        "len(ttk)"
      ],
      "execution_count": null,
      "outputs": [
        {
          "output_type": "execute_result",
          "data": {
            "text/plain": [
              "22"
            ]
          },
          "metadata": {},
          "execution_count": 26
        }
      ]
    },
    {
      "cell_type": "code",
      "metadata": {
        "colab": {
          "base_uri": "https://localhost:8080/",
          "height": 35
        },
        "id": "GaHgwfZyfpIt",
        "outputId": "0e85164f-1970-4532-afdf-a43d8240a94a"
      },
      "source": [
        "ttk[0:15:4]"
      ],
      "execution_count": null,
      "outputs": [
        {
          "output_type": "execute_result",
          "data": {
            "application/vnd.google.colaboratory.intrinsic+json": {
              "type": "string"
            },
            "text/plain": [
              "'Této'"
            ]
          },
          "metadata": {},
          "execution_count": 28
        }
      ]
    },
    {
      "cell_type": "code",
      "metadata": {
        "colab": {
          "base_uri": "https://localhost:8080/"
        },
        "id": "EdanKECyf3V0",
        "outputId": "ad2daffe-4229-4c78-bbb4-dcaa64345430"
      },
      "source": [
        "  # Operátorok\n",
        "  # +; -; *; /.\n",
        "\n",
        "\n",
        "  a = 1 \n",
        "  b = 3\n",
        "\n",
        "  m = a%b\n",
        "  print(m)\n",
        "\n",
        "  e = a//b\n",
        "  print(e)\n",
        "\n",
        "  n = b**2\n",
        "  print(n)\n",
        "\n",
        "  g = b** .5\n",
        "  print(g)"
      ],
      "execution_count": null,
      "outputs": [
        {
          "output_type": "stream",
          "name": "stdout",
          "text": [
            "1\n",
            "0\n",
            "9\n",
            "1.7320508075688772\n"
          ]
        }
      ]
    },
    {
      "cell_type": "code",
      "metadata": {
        "id": "JWpmHFePoj6z"
      },
      "source": [
        "flt = float(\"3\")"
      ],
      "execution_count": null,
      "outputs": []
    },
    {
      "cell_type": "code",
      "metadata": {
        "id": "N7t8TRDitVFb"
      },
      "source": [
        "file = open(\"Eleresi ut\")\n",
        "\n",
        "file.close()"
      ],
      "execution_count": null,
      "outputs": []
    },
    {
      "cell_type": "code",
      "metadata": {
        "colab": {
          "base_uri": "https://localhost:8080/"
        },
        "id": "UZEcqzwouKsW",
        "outputId": "0e211578-55af-4fc3-bebe-1900920854f8"
      },
      "source": [
        "!wget https://raw.githubusercontent.com/halmaia/ElemiProgramozas/master/Thermo.txt"
      ],
      "execution_count": null,
      "outputs": [
        {
          "output_type": "stream",
          "name": "stdout",
          "text": [
            "--2021-09-14 14:32:29--  https://raw.githubusercontent.com/halmaia/ElemiProgramozas/master/Thermo.txt\n",
            "Resolving raw.githubusercontent.com (raw.githubusercontent.com)... 185.199.108.133, 185.199.109.133, 185.199.110.133, ...\n",
            "Connecting to raw.githubusercontent.com (raw.githubusercontent.com)|185.199.108.133|:443... connected.\n",
            "HTTP request sent, awaiting response... 200 OK\n",
            "Length: 688 [text/plain]\n",
            "Saving to: ‘Thermo.txt’\n",
            "\n",
            "\rThermo.txt            0%[                    ]       0  --.-KB/s               \rThermo.txt          100%[===================>]     688  --.-KB/s    in 0s      \n",
            "\n",
            "2021-09-14 14:32:29 (26.5 MB/s) - ‘Thermo.txt’ saved [688/688]\n",
            "\n"
          ]
        }
      ]
    },
    {
      "cell_type": "code",
      "metadata": {
        "colab": {
          "base_uri": "https://localhost:8080/"
        },
        "id": "RFQOjoFjuTsD",
        "outputId": "4b3338d6-30f8-4cc0-c6f7-6a3f093b9940"
      },
      "source": [
        "!pwd"
      ],
      "execution_count": null,
      "outputs": [
        {
          "output_type": "stream",
          "name": "stdout",
          "text": [
            "/content\n"
          ]
        }
      ]
    },
    {
      "cell_type": "code",
      "metadata": {
        "id": "ij-eXw-euw7j"
      },
      "source": [
        "!cat /content/Thermo.txt"
      ],
      "execution_count": null,
      "outputs": []
    },
    {
      "cell_type": "code",
      "metadata": {
        "colab": {
          "base_uri": "https://localhost:8080/"
        },
        "id": "YfloojhRvhaJ",
        "outputId": "3369e760-766b-43cb-a3e0-965061b58b85"
      },
      "source": [
        "path = \"/content/Thermo.txt\" # Elérési út\n",
        "sm = 0.0\n",
        "atl = 0.0\n",
        "\n",
        "file = open(path) # Megnyitás\n",
        "for row in file:\n",
        "  sm += float(row)\n",
        "  atl += 1\n",
        "\n",
        "file.close() # File bezárása\n",
        "del file # Vált. eltáv.\n",
        "atl = sm / atl\n",
        "print(atl)"
      ],
      "execution_count": null,
      "outputs": [
        {
          "output_type": "stream",
          "name": "stdout",
          "text": [
            "21.450694444444455\n"
          ]
        }
      ]
    },
    {
      "cell_type": "code",
      "metadata": {
        "colab": {
          "base_uri": "https://localhost:8080/"
        },
        "id": "QJoqkuI3xE9K",
        "outputId": "8f3bbe4d-4cd5-4e54-f663-65eaacfa169c"
      },
      "source": [
        "row = \"-13037521.673799999058247,3853580.669500000774860\"\n",
        "y, x = row.split(sep=',')\n",
        "y,x = float(y), float(x)\n",
        "print(y,x)"
      ],
      "execution_count": null,
      "outputs": [
        {
          "output_type": "stream",
          "name": "stdout",
          "text": [
            "-13037521.673799999058247 3853580.669500000774860\n"
          ]
        }
      ]
    },
    {
      "cell_type": "code",
      "metadata": {
        "id": "tetkBayw4SaR"
      },
      "source": [
        "!wget https://raw.githubusercontent.com/halmaia/ElemiProgramozas/master/Fire.txt"
      ],
      "execution_count": null,
      "outputs": []
    },
    {
      "cell_type": "code",
      "metadata": {
        "colab": {
          "base_uri": "https://localhost:8080/"
        },
        "id": "vcJNj9xL3fZw",
        "outputId": "0f18ee33-7596-431e-adf9-854b37f51b3b"
      },
      "source": [
        "path = \"/content/Fire.txt\" # Elérési út\n",
        "smx = 0.0\n",
        "smy = 0.0\n",
        "atl = 0\n",
        "atlx = 0.0\n",
        "atly = 0.0\n",
        "\n",
        "file = open(path) # Megnyitás\n",
        "for row in file:\n",
        "  y, x = row.split(sep=',')\n",
        "  y,x = float(y), float(x)\n",
        "  smx += x\n",
        "  smy += y\n",
        "  atl += 1\n",
        "\n",
        "file.close() # File bezárása\n",
        "del file # Vált. eltáv.\n",
        "atlx = smx / atl\n",
        "atly = smy / atl\n",
        "print(atlx, atly)"
      ],
      "execution_count": null,
      "outputs": [
        {
          "output_type": "stream",
          "name": "stdout",
          "text": [
            "3864434.316114287 -13037173.569603572\n"
          ]
        }
      ]
    },
    {
      "cell_type": "code",
      "metadata": {
        "id": "braXHC334txU"
      },
      "source": [
        ""
      ],
      "execution_count": null,
      "outputs": []
    }
  ]
}
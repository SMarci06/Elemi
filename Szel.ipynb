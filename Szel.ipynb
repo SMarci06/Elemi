{
  "nbformat": 4,
  "nbformat_minor": 0,
  "metadata": {
    "colab": {
      "name": "Szel.ipynb",
      "provenance": [],
      "authorship_tag": "ABX9TyPAuW9Sm5umYLTdSbIJkZjB",
      "include_colab_link": true
    },
    "kernelspec": {
      "name": "python3",
      "display_name": "Python 3"
    },
    "language_info": {
      "name": "python"
    }
  },
  "cells": [
    {
      "cell_type": "markdown",
      "metadata": {
        "id": "view-in-github",
        "colab_type": "text"
      },
      "source": [
        "<a href=\"https://colab.research.google.com/github/SMarci06/Elemi/blob/main/Szel.ipynb\" target=\"_parent\"><img src=\"https://colab.research.google.com/assets/colab-badge.svg\" alt=\"Open In Colab\"/></a>"
      ]
    },
    {
      "cell_type": "code",
      "metadata": {
        "id": "xuZzwgHQAiOv"
      },
      "source": [
        "!wget https://raw.githubusercontent.com/halmaia/ElemiProgramozas/master/Szel.csv"
      ],
      "execution_count": null,
      "outputs": []
    },
    {
      "cell_type": "code",
      "metadata": {
        "id": "qhnHVQcFBGYS"
      },
      "source": [
        "path = \"/content/Szel.csv\"\n",
        "X = []\n",
        "Y = []\n",
        "file = open(path) # Megnyitás\n",
        "next(file)\n",
        "for row in file:\n",
        "  x, y = row.split(sep=',')\n",
        "  x, y = float(x), float(y)\n",
        "  X.append(x)\n",
        "  Y.append(y)\n",
        "print(X, Y)"
      ],
      "execution_count": null,
      "outputs": []
    },
    {
      "cell_type": "code",
      "metadata": {
        "id": "RsSmioQrChBr"
      },
      "source": [
        ""
      ],
      "execution_count": null,
      "outputs": []
    }
  ]
}
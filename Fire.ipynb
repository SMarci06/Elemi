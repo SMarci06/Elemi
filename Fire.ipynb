{
  "nbformat": 4,
  "nbformat_minor": 0,
  "metadata": {
    "colab": {
      "name": "Fire.ipynb",
      "provenance": [],
      "authorship_tag": "ABX9TyNqFVkXqkolWHUXUklp1bQ2"
    },
    "kernelspec": {
      "name": "python3",
      "display_name": "Python 3"
    },
    "language_info": {
      "name": "python"
    }
  },
  "cells": [
    {
      "cell_type": "code",
      "metadata": {
        "id": "RyLAUPqxU8nI"
      },
      "source": [
        "!wget https://raw.githubusercontent.com/halmaia/ElemiProgramozas/master/Fire.txt"
      ],
      "execution_count": null,
      "outputs": []
    },
    {
      "cell_type": "code",
      "metadata": {
        "colab": {
          "base_uri": "https://localhost:8080/"
        },
        "id": "G3ys_E61VUOs",
        "outputId": "369d8e9c-0935-4a32-f7b4-e42fa574efef"
      },
      "source": [
        "# Tűzoltóságok koordinátájának átlaga\n",
        "\n",
        "path = \"/content/Fire.txt\" # Elérési út\n",
        "smx = 0.0\n",
        "smy = 0.0\n",
        "atl = 0\n",
        "atlx = 0.0\n",
        "atly = 0.0\n",
        "\n",
        "file = open(path) # Megnyitás\n",
        "for row in file:\n",
        "  x, y = row.split(sep=',')\n",
        "  x, y = float(x), float(y)\n",
        "  #print(x,\"|\",y)\n",
        "  smx += x\n",
        "  smy += y\n",
        "  atl += 1\n",
        "\n",
        "file.close() # File bezárása\n",
        "del file # Vált. eltáv.\n",
        "atlx = smx / atl\n",
        "atly = smy / atl\n",
        "print(atlx, atly)"
      ],
      "execution_count": null,
      "outputs": [
        {
          "output_type": "stream",
          "name": "stdout",
          "text": [
            "-13037173.569603572 3864434.316114287\n"
          ]
        }
      ]
    },
    {
      "cell_type": "code",
      "metadata": {
        "colab": {
          "base_uri": "https://localhost:8080/"
        },
        "id": "njprtPCGhhAv",
        "outputId": "f4ee967f-f4c8-4131-e004-9a2e20cfafd8"
      },
      "source": [
        "L = [5.3, 7.8, \"szöveg\"] # Lista\n",
        "print(L[2])\n",
        "L.append(6.6) # Hozzáfűzés\n",
        "print(L)"
      ],
      "execution_count": null,
      "outputs": [
        {
          "output_type": "stream",
          "name": "stdout",
          "text": [
            "szöveg\n",
            "[5.3, 7.8, 'szöveg', 6.6]\n"
          ]
        }
      ]
    },
    {
      "cell_type": "code",
      "metadata": {
        "id": "ir6Wqu1mizej"
      },
      "source": [
        "# X és Y koordináták listákba bontása\n",
        "X = []\n",
        "Y = []\n",
        "path = \"/content/Fire.txt\" # Elérési út\n",
        "smx = 0.0\n",
        "smy = 0.0\n",
        "atl = 0\n",
        "atlx = 0.0\n",
        "atly = 0.0\n",
        "\n",
        "file = open(path) # Megnyitás\n",
        "for row in file:\n",
        "  x, y = row.split(sep=',')\n",
        "  x, y = float(x), float(y)\n",
        "  X.append(x)\n",
        "  Y.append(y)\n",
        "  #print(x,\"|\",y)\n",
        "\n",
        "file.close() # File bezárása\n",
        "del file # Vált. eltáv.\n",
        "# print(X)\n",
        "# print(Y)\n",
        "\n",
        "xkul = X[1] - X[0] \n",
        "ykul = Y[1] - Y[0]\n",
        "print((xkul*xkul+ykul*ykul)**0.5) # Két pont távolsága Pitagorasz tétellel"
      ],
      "execution_count": null,
      "outputs": []
    },
    {
      "cell_type": "code",
      "metadata": {
        "colab": {
          "base_uri": "https://localhost:8080/",
          "height": 324
        },
        "id": "7pL_UkgZvFmF",
        "outputId": "5902a5f2-bbad-486a-819d-8123af2468ac"
      },
      "source": [
        "import matplotlib.pyplot as plt \n",
        "\n",
        "n = len(X)\n",
        "for i in range(n):\n",
        "  plt.scatter(X[i], Y[i])\n",
        "\n",
        "D = []\n",
        "for i in range(n):\n",
        "  sd = 0.0\n",
        "  for j in range(n):\n",
        "   dx = X[j] - X[i]\n",
        "   dy = Y[j] - Y[i]\n",
        "   sd += ((dx*dx+dy*dy)**0.5)\n",
        "  D.append(sd)\n",
        "\n",
        "m = min(D)\n",
        "print(m)\n",
        "index = D.index(m)\n",
        "\n",
        "plt.scatter(X[index], Y[index], marker=\"X\", s=200, c=\"red\") # diagrammban jelöles, legközelebbi állomás\n",
        "plt.show()\n",
        "print(m / 1000)"
      ],
      "execution_count": null,
      "outputs": [
        {
          "output_type": "stream",
          "name": "stdout",
          "text": [
            "873518.944779477\n"
          ]
        },
        {
          "output_type": "display_data",
          "data": {
            "image/png": "[encoded data removed]",
            "text/plain": [
              "<Figure size 432x288 with 1 Axes>"
            ]
          },
          "metadata": {
            "needs_background": "light"
          }
        },
        {
          "output_type": "stream",
          "name": "stdout",
          "text": [
            "873.518944779477\n"
          ]
        }
      ]
    },
    {
      "cell_type": "code",
      "metadata": {
        "colab": {
          "base_uri": "https://localhost:8080/",
          "height": 265
        },
        "id": "zm9vVq8Y0ac4",
        "outputId": "ddecca18-6ed4-460f-9641-d46938286a99"
      },
      "source": [
        "import matplotlib.pyplot as plt # Diagramm megjelenítés\n",
        "\n",
        "plt.scatter(3, 7) # koordináták megadása\n",
        "plt.scatter(2, 6)\n",
        "\n",
        "plt.show()"
      ],
      "execution_count": null,
      "outputs": [
        {
          "output_type": "display_data",
          "data": {
            "image/png": "[encoded data removed]",
            "text/plain": [
              "<Figure size 432x288 with 1 Axes>"
            ]
          },
          "metadata": {
            "needs_background": "light"
          }
        }
      ]
    },
    {
      "cell_type": "code",
      "metadata": {
        "id": "DbPVyH6m1FIZ"
      },
      "source": [
        "import matplotlib.pyplot as plt # Diagramm megjelenítés\n",
        "def drawLinearFN (a, b): # Függvény írása\n",
        "  for x in range(-50, +50 + 1):\n",
        "    plt.scatter(x, a * x + b)\n",
        "  plt.show()"
      ],
      "execution_count": null,
      "outputs": []
    },
    {
      "cell_type": "code",
      "metadata": {
        "colab": {
          "base_uri": "https://localhost:8080/",
          "height": 265
        },
        "id": "AQMX5d7n5iMM",
        "outputId": "84d0b943-4ecd-450b-c32a-559317c01bba"
      },
      "source": [
        "drawLinearFN(2, 77)"
      ],
      "execution_count": null,
      "outputs": [
        {
          "output_type": "display_data",
          "data": {
            "image/png": "[encoded data removed]",
            "text/plain": [
              "<Figure size 432x288 with 1 Axes>"
            ]
          },
          "metadata": {
            "needs_background": "light"
          }
        }
      ]
    },
    {
      "cell_type": "code",
      "metadata": {
        "id": "A9cUnULD9KHA"
      },
      "source": [
        "def ABS (szam): # Abszolútérték függvény\n",
        " if szam<0 : szam = -szam\n",
        " return(szam)"
      ],
      "execution_count": null,
      "outputs": []
    },
    {
      "cell_type": "code",
      "metadata": {
        "colab": {
          "base_uri": "https://localhost:8080/"
        },
        "id": "PDPth73U9-I4",
        "outputId": "f28bbc81-c13a-418b-88b5-6da3e2a85f3a"
      },
      "source": [
        "ABS(-222)"
      ],
      "execution_count": null,
      "outputs": [
        {
          "output_type": "execute_result",
          "data": {
            "text/plain": [
              "222"
            ]
          },
          "metadata": {},
          "execution_count": 69
        }
      ]
    },
    {
      "cell_type": "code",
      "metadata": {
        "id": "XUEahrJV-KKH"
      },
      "source": [
        ""
      ],
      "execution_count": null,
      "outputs": []
    }
  ]
}